{
  "nbformat": 4,
  "nbformat_minor": 0,
  "metadata": {
    "colab": {
      "provenance": [],
      "authorship_tag": "ABX9TyO8wlncHKkPTShFEnlGfFWZ",
      "include_colab_link": true
    },
    "kernelspec": {
      "name": "python3",
      "display_name": "Python 3"
    },
    "language_info": {
      "name": "python"
    }
  },
  "cells": [
    {
      "cell_type": "markdown",
      "metadata": {
        "id": "view-in-github",
        "colab_type": "text"
      },
      "source": [
        "<a href=\"https://colab.research.google.com/github/2303A51232/AIML-2025BT17-18/blob/main/AIML1.ipynb\" target=\"_parent\"><img src=\"https://colab.research.google.com/assets/colab-badge.svg\" alt=\"Open In Colab\"/></a>"
      ]
    },
    {
      "cell_type": "code",
      "execution_count": 2,
      "metadata": {
        "id": "5-buWkl0jtvm",
        "outputId": "9c861e68-d0bd-4b39-d66a-9ab16f0d86a9",
        "colab": {
          "base_uri": "https://localhost:8080/"
        }
      },
      "outputs": [
        {
          "output_type": "stream",
          "name": "stdout",
          "text": [
            "[1, 2, 3, 4] <class 'list'>\n",
            "[5 6 7 8] <class 'numpy.ndarray'>\n",
            "0     9\n",
            "1    10\n",
            "2    11\n",
            "3    12\n",
            "dtype: int64 <class 'pandas.core.series.Series'>\n",
            "Multiplication: [10 18 28 40]\n",
            "Division: [2.5  2.   1.75 1.6 ]\n",
            "Power: [25 36 49 64]\n",
            "Addition of Two: [ 7  9 11 13]\n",
            "Sine: [-0.95892427 -0.2794155   0.6569866   0.98935825]\n",
            "Natural Log: [1.60943791 1.79175947 1.94591015 2.07944154]\n",
            "Log base 2: [2.32192809 2.5849625  2.80735492 3.        ]\n",
            "Exponential: [ 148.4131591   403.42879349 1096.63315843 2980.95798704]\n"
          ]
        }
      ],
      "source": [
        "\n",
        "\n",
        "import numpy as np\n",
        "import pandas as pd\n",
        "\n",
        "\n",
        "list1 = [1, 2, 3, 4]\n",
        "print(list1, type(list1))\n",
        "\n",
        "\n",
        "array1 = np.array([5, 6, 7, 8])\n",
        "print(array1, type(array1))\n",
        "\n",
        "\n",
        "series1 = pd.Series([9, 10, 11, 12])\n",
        "print(series1, type(series1))\n",
        "\n",
        "\n",
        "array2 = np.array([2, 3, 4, 5])\n",
        "print(\"Multiplication:\", array1 * array2)\n",
        "print(\"Division:\", array1 / array2)\n",
        "print(\"Power:\", array1 ** 2)\n",
        "\n",
        "\n",
        "result = array1 + array2\n",
        "print(\"Addition of Two:\", result)\n",
        "\n",
        "print(\"Sine:\", np.sin(array1))\n",
        "print(\"Natural Log:\", np.log(array1))\n",
        "print(\"Log base 2:\", np.log2(array1))\n",
        "print(\"Exponential:\", np.exp(array1))\n"
      ]
    }
  ]
}